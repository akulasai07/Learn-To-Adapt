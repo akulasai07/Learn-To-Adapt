{
 "cells": [
  {
   "cell_type": "code",
   "execution_count": 8,
   "id": "f3013771-2761-4e4a-975e-16067c619113",
   "metadata": {},
   "outputs": [],
   "source": [
    "#Installing libraries"
   ]
  },
  {
   "cell_type": "code",
   "execution_count": 9,
   "id": "ab55df96-9138-4769-b669-13c16d75cb4b",
   "metadata": {},
   "outputs": [
    {
     "name": "stdout",
     "output_type": "stream",
     "text": [
      "Defaulting to user installation because normal site-packages is not writeable\n",
      "\u001b[33mWARNING: Ignoring invalid distribution -orch (/home/sakula8/.local/lib/python3.9/site-packages)\u001b[0m\u001b[33m\n",
      "\u001b[0mRequirement already satisfied: googletrans==3.1.0a0 in /home/sakula8/.local/lib/python3.9/site-packages (3.1.0a0)\n",
      "Requirement already satisfied: httpx==0.13.3 in /home/sakula8/.local/lib/python3.9/site-packages (from googletrans==3.1.0a0) (0.13.3)\n",
      "Requirement already satisfied: certifi in /opt/sw/spack/apps/linux-rhel8-x86_64_v2/gcc-10.3.0/python-3.9.9-jh/lib/python3.9/site-packages (from httpx==0.13.3->googletrans==3.1.0a0) (2021.10.8)\n",
      "Requirement already satisfied: hstspreload in /home/sakula8/.local/lib/python3.9/site-packages (from httpx==0.13.3->googletrans==3.1.0a0) (2023.1.1)\n",
      "Requirement already satisfied: sniffio in /opt/sw/spack/apps/linux-rhel8-x86_64_v2/gcc-10.3.0/python-3.9.9-jh/lib/python3.9/site-packages (from httpx==0.13.3->googletrans==3.1.0a0) (1.2.0)\n",
      "Requirement already satisfied: chardet==3.* in /home/sakula8/.local/lib/python3.9/site-packages (from httpx==0.13.3->googletrans==3.1.0a0) (3.0.4)\n",
      "Requirement already satisfied: idna==2.* in /home/sakula8/.local/lib/python3.9/site-packages (from httpx==0.13.3->googletrans==3.1.0a0) (2.10)\n",
      "Requirement already satisfied: rfc3986<2,>=1.3 in /home/sakula8/.local/lib/python3.9/site-packages (from httpx==0.13.3->googletrans==3.1.0a0) (1.5.0)\n",
      "Requirement already satisfied: httpcore==0.9.* in /home/sakula8/.local/lib/python3.9/site-packages (from httpx==0.13.3->googletrans==3.1.0a0) (0.9.1)\n",
      "Requirement already satisfied: h11<0.10,>=0.8 in /home/sakula8/.local/lib/python3.9/site-packages (from httpcore==0.9.*->httpx==0.13.3->googletrans==3.1.0a0) (0.9.0)\n",
      "Requirement already satisfied: h2==3.* in /home/sakula8/.local/lib/python3.9/site-packages (from httpcore==0.9.*->httpx==0.13.3->googletrans==3.1.0a0) (3.2.0)\n",
      "Requirement already satisfied: hyperframe<6,>=5.2.0 in /home/sakula8/.local/lib/python3.9/site-packages (from h2==3.*->httpcore==0.9.*->httpx==0.13.3->googletrans==3.1.0a0) (5.2.0)\n",
      "Requirement already satisfied: hpack<4,>=3.0 in /home/sakula8/.local/lib/python3.9/site-packages (from h2==3.*->httpcore==0.9.*->httpx==0.13.3->googletrans==3.1.0a0) (3.0.0)\n",
      "\u001b[33mWARNING: Ignoring invalid distribution -orch (/home/sakula8/.local/lib/python3.9/site-packages)\u001b[0m\u001b[33m\n",
      "\u001b[0m"
     ]
    }
   ],
   "source": [
    "!pip install googletrans==3.1.0a0"
   ]
  },
  {
   "cell_type": "code",
   "execution_count": 10,
   "id": "b3e8af3f-f070-47cf-a48b-265b2a5f8a2a",
   "metadata": {},
   "outputs": [
    {
     "name": "stdout",
     "output_type": "stream",
     "text": [
      "Defaulting to user installation because normal site-packages is not writeable\n",
      "\u001b[33mWARNING: Ignoring invalid distribution -orch (/home/sakula8/.local/lib/python3.9/site-packages)\u001b[0m\u001b[33m\n",
      "\u001b[0mRequirement already satisfied: pip in /home/sakula8/.local/lib/python3.9/site-packages (23.1.2)\n",
      "\u001b[33mWARNING: Ignoring invalid distribution -orch (/home/sakula8/.local/lib/python3.9/site-packages)\u001b[0m\u001b[33m\n",
      "\u001b[0mNote: you may need to restart the kernel to use updated packages.\n"
     ]
    }
   ],
   "source": [
    "!pip install --upgrade pip"
   ]
  },
  {
   "cell_type": "code",
   "execution_count": 11,
   "id": "f396ed22-1d47-425e-a79d-9d0f0d88c294",
   "metadata": {},
   "outputs": [],
   "source": [
    "#importing packages\n",
    "import googletrans\n",
    "import pandas as pd\n",
    "import os\n",
    "import requests\n",
    "from googletrans import Translator"
   ]
  },
  {
   "cell_type": "code",
   "execution_count": 12,
   "id": "a3d89596-4161-4e08-b088-7e4a0c6b9dd6",
   "metadata": {},
   "outputs": [
    {
     "name": "stdout",
     "output_type": "stream",
     "text": [
      "{'af': 'afrikaans', 'sq': 'albanian', 'am': 'amharic', 'ar': 'arabic', 'hy': 'armenian', 'az': 'azerbaijani', 'eu': 'basque', 'be': 'belarusian', 'bn': 'bengali', 'bs': 'bosnian', 'bg': 'bulgarian', 'ca': 'catalan', 'ceb': 'cebuano', 'ny': 'chichewa', 'zh-cn': 'chinese (simplified)', 'zh-tw': 'chinese (traditional)', 'co': 'corsican', 'hr': 'croatian', 'cs': 'czech', 'da': 'danish', 'nl': 'dutch', 'en': 'english', 'eo': 'esperanto', 'et': 'estonian', 'tl': 'filipino', 'fi': 'finnish', 'fr': 'french', 'fy': 'frisian', 'gl': 'galician', 'ka': 'georgian', 'de': 'german', 'el': 'greek', 'gu': 'gujarati', 'ht': 'haitian creole', 'ha': 'hausa', 'haw': 'hawaiian', 'iw': 'hebrew', 'he': 'hebrew', 'hi': 'hindi', 'hmn': 'hmong', 'hu': 'hungarian', 'is': 'icelandic', 'ig': 'igbo', 'id': 'indonesian', 'ga': 'irish', 'it': 'italian', 'ja': 'japanese', 'jw': 'javanese', 'kn': 'kannada', 'kk': 'kazakh', 'km': 'khmer', 'ko': 'korean', 'ku': 'kurdish (kurmanji)', 'ky': 'kyrgyz', 'lo': 'lao', 'la': 'latin', 'lv': 'latvian', 'lt': 'lithuanian', 'lb': 'luxembourgish', 'mk': 'macedonian', 'mg': 'malagasy', 'ms': 'malay', 'ml': 'malayalam', 'mt': 'maltese', 'mi': 'maori', 'mr': 'marathi', 'mn': 'mongolian', 'my': 'myanmar (burmese)', 'ne': 'nepali', 'no': 'norwegian', 'or': 'odia', 'ps': 'pashto', 'fa': 'persian', 'pl': 'polish', 'pt': 'portuguese', 'pa': 'punjabi', 'ro': 'romanian', 'ru': 'russian', 'sm': 'samoan', 'gd': 'scots gaelic', 'sr': 'serbian', 'st': 'sesotho', 'sn': 'shona', 'sd': 'sindhi', 'si': 'sinhala', 'sk': 'slovak', 'sl': 'slovenian', 'so': 'somali', 'es': 'spanish', 'su': 'sundanese', 'sw': 'swahili', 'sv': 'swedish', 'tg': 'tajik', 'ta': 'tamil', 'te': 'telugu', 'th': 'thai', 'tr': 'turkish', 'uk': 'ukrainian', 'ur': 'urdu', 'ug': 'uyghur', 'uz': 'uzbek', 'vi': 'vietnamese', 'cy': 'welsh', 'xh': 'xhosa', 'yi': 'yiddish', 'yo': 'yoruba', 'zu': 'zulu'}\n"
     ]
    }
   ],
   "source": [
    "\n",
    "translator = Translator()\n",
    "\n",
    "#to get the language codes\n",
    "print(googletrans.LANGUAGES)"
   ]
  },
  {
   "cell_type": "code",
   "execution_count": 13,
   "id": "c27fbcb7-a0a6-4961-94fd-0dad9bcec508",
   "metadata": {},
   "outputs": [],
   "source": [
    "\n",
    "df_train_seen = pd.read_csv(\"/scratch/sgupta32/Learn-To-Adapt/train_seen.csv\")\n"
   ]
  },
  {
   "cell_type": "code",
   "execution_count": 14,
   "id": "a4247fdd-e50f-4afb-a5ee-799138534d5b",
   "metadata": {},
   "outputs": [],
   "source": [
    "#function to create a dataset with five different languagesand appending it to make final data set.\n",
    "def language(df):\n",
    "    df_final = df.copy()\n",
    "    df_ch= df.copy()\n",
    "    df_ch['Text'] = df['Text'].apply(lambda x: translator.translate(x, src='en', dest='zh-cn').text )\n",
    "    df_final = df_final.append(df_ch)\n",
    "    df_hi= df.copy()\n",
    "    df_hi['Text'] = df['Text'].apply(lambda x: translator.translate(x, src='en', dest='hi').text )\n",
    "    df_final = df_final.append(df_hi)\n",
    "    df_de= df.copy()\n",
    "    df_de['Text'] = df['Text'].apply(lambda x: translator.translate(x, src='en', dest='de').text )\n",
    "    df_final = df_final.append(df_de)\n",
    "    df_te= df.copy()\n",
    "    df_te['Text'] = df['Text'].apply(lambda x: translator.translate(x, src='en', dest='te').text )\n",
    "    df_final = df_final.append(df_te)\n",
    "    \n",
    "    return df_final"
   ]
  },
  {
   "cell_type": "code",
   "execution_count": 15,
   "id": "c8baff18-f41a-4d51-ad06-27e41059009d",
   "metadata": {},
   "outputs": [],
   "source": [
    "df_new_train_seen = language(df_train_seen)\n"
   ]
  },
  {
   "cell_type": "code",
   "execution_count": 16,
   "id": "b4ef6a6e-ab59-45b6-ad6c-7dea9f3343b6",
   "metadata": {},
   "outputs": [
    {
     "data": {
      "text/html": [
       "<div>\n",
       "<style scoped>\n",
       "    .dataframe tbody tr th:only-of-type {\n",
       "        vertical-align: middle;\n",
       "    }\n",
       "\n",
       "    .dataframe tbody tr th {\n",
       "        vertical-align: top;\n",
       "    }\n",
       "\n",
       "    .dataframe thead th {\n",
       "        text-align: right;\n",
       "    }\n",
       "</style>\n",
       "<table border=\"1\" class=\"dataframe\">\n",
       "  <thead>\n",
       "    <tr style=\"text-align: right;\">\n",
       "      <th></th>\n",
       "      <th>Text</th>\n",
       "      <th>Label</th>\n",
       "    </tr>\n",
       "  </thead>\n",
       "  <tbody>\n",
       "    <tr>\n",
       "      <th>0</th>\n",
       "      <td>i'd like to hear some trivia about florida</td>\n",
       "      <td>30</td>\n",
       "    </tr>\n",
       "    <tr>\n",
       "      <th>1</th>\n",
       "      <td>please tell me the bill's minimum payment</td>\n",
       "      <td>106</td>\n",
       "    </tr>\n",
       "    <tr>\n",
       "      <th>2</th>\n",
       "      <td>who gave you life</td>\n",
       "      <td>5</td>\n",
       "    </tr>\n",
       "    <tr>\n",
       "      <th>3</th>\n",
       "      <td>at what time will my flight begin boarding</td>\n",
       "      <td>80</td>\n",
       "    </tr>\n",
       "    <tr>\n",
       "      <th>4</th>\n",
       "      <td>my card is lost, i would like to report it</td>\n",
       "      <td>95</td>\n",
       "    </tr>\n",
       "    <tr>\n",
       "      <th>...</th>\n",
       "      <td>...</td>\n",
       "      <td>...</td>\n",
       "    </tr>\n",
       "    <tr>\n",
       "      <th>12595</th>\n",
       "      <td>నాకు మీ బాస్ ఎవరో తెలుసుకోవాలని ఉంది</td>\n",
       "      <td>97</td>\n",
       "    </tr>\n",
       "    <tr>\n",
       "      <th>12596</th>\n",
       "      <td>మీరు కారును ఎలా స్టార్ట్ చేస్తారు</td>\n",
       "      <td>102</td>\n",
       "    </tr>\n",
       "    <tr>\n",
       "      <th>12597</th>\n",
       "      <td>నా కారు బిల్లు చెల్లించడంలో ఎవరైనా నాకు సహాయం ...</td>\n",
       "      <td>51</td>\n",
       "    </tr>\n",
       "    <tr>\n",
       "      <th>12598</th>\n",
       "      <td>నేను అక్కడ ఉన్నప్పుడు ఇటలీలో నా కార్డ్‌ని ఉపయో...</td>\n",
       "      <td>58</td>\n",
       "    </tr>\n",
       "    <tr>\n",
       "      <th>12599</th>\n",
       "      <td>కొంత నగదును ఒక ఖాతా నుండి మరొక ఖాతాకు తరలించే ...</td>\n",
       "      <td>9</td>\n",
       "    </tr>\n",
       "  </tbody>\n",
       "</table>\n",
       "<p>63000 rows × 2 columns</p>\n",
       "</div>"
      ],
      "text/plain": [
       "                                                    Text  Label\n",
       "0             i'd like to hear some trivia about florida     30\n",
       "1              please tell me the bill's minimum payment    106\n",
       "2                                      who gave you life      5\n",
       "3             at what time will my flight begin boarding     80\n",
       "4             my card is lost, i would like to report it     95\n",
       "...                                                  ...    ...\n",
       "12595               నాకు మీ బాస్ ఎవరో తెలుసుకోవాలని ఉంది     97\n",
       "12596                  మీరు కారును ఎలా స్టార్ట్ చేస్తారు    102\n",
       "12597  నా కారు బిల్లు చెల్లించడంలో ఎవరైనా నాకు సహాయం ...     51\n",
       "12598  నేను అక్కడ ఉన్నప్పుడు ఇటలీలో నా కార్డ్‌ని ఉపయో...     58\n",
       "12599  కొంత నగదును ఒక ఖాతా నుండి మరొక ఖాతాకు తరలించే ...      9\n",
       "\n",
       "[63000 rows x 2 columns]"
      ]
     },
     "execution_count": 16,
     "metadata": {},
     "output_type": "execute_result"
    }
   ],
   "source": [
    "df_new_train_seen"
   ]
  },
  {
   "cell_type": "code",
   "execution_count": 20,
   "id": "7c02a0a4-8318-4053-b509-ddfbc1909b47",
   "metadata": {},
   "outputs": [],
   "source": [
    "#creating a new file name and saving the file at a desired location \n",
    "filename = 'train_seen.csv'\n",
    "folderpath = \"/scratch/sgupta32/Learn-To-Adapt/data/ver2/CLINC/\"\n",
    "filepath = os.path.join(folderpath, filename)\n",
    "df_new_train_seen.to_csv(filepath, index=False)"
   ]
  },
  {
   "cell_type": "code",
   "execution_count": null,
   "id": "046393e4-d6d6-4777-b869-b771cc691dc9",
   "metadata": {},
   "outputs": [],
   "source": []
  }
 ],
 "metadata": {
  "kernelspec": {
   "display_name": "Python 3 (ipykernel)",
   "language": "python",
   "name": "python3"
  },
  "language_info": {
   "codemirror_mode": {
    "name": "ipython",
    "version": 3
   },
   "file_extension": ".py",
   "mimetype": "text/x-python",
   "name": "python",
   "nbconvert_exporter": "python",
   "pygments_lexer": "ipython3",
   "version": "3.9.9"
  }
 },
 "nbformat": 4,
 "nbformat_minor": 5
}
