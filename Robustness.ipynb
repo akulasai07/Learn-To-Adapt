{
 "cells": [
  {
   "cell_type": "code",
   "execution_count": 1,
   "id": "b73d9f51-fd60-421a-b73e-e84d6fe7fc22",
   "metadata": {},
   "outputs": [],
   "source": [
    "#ISTALLING LIBRARIES"
   ]
  },
  {
   "cell_type": "code",
   "execution_count": 2,
   "id": "80ca19f7-60d5-4d6e-8b29-34b6d415e641",
   "metadata": {
    "tags": []
   },
   "outputs": [
    {
     "name": "stdout",
     "output_type": "stream",
     "text": [
      "Defaulting to user installation because normal site-packages is not writeable\n",
      "\u001b[33mWARNING: Ignoring invalid distribution -orch (/home/sgupta32/.local/lib/python3.9/site-packages)\u001b[0m\u001b[33m\n",
      "\u001b[0m\u001b[33mWARNING: Ignoring invalid distribution -orch (/home/sgupta32/.local/lib/python3.9/site-packages)\u001b[0m\u001b[33m\n",
      "\u001b[0mRequirement already satisfied: checklist in /home/sgupta32/.local/lib/python3.9/site-packages (0.0.11)\n",
      "Requirement already satisfied: numpy>=1.18 in /opt/sw/spack/apps/linux-rhel8-x86_64_v2/gcc-10.3.0/python-3.9.9-jh/lib/python3.9/site-packages (from checklist) (1.22.3)\n",
      "Requirement already satisfied: munch>=2.5 in /home/sgupta32/.local/lib/python3.9/site-packages (from checklist) (2.5.0)\n",
      "Requirement already satisfied: jupyter>=1.0 in /opt/sw/spack/apps/linux-rhel8-x86_64_v2/gcc-10.3.0/python-3.9.9-jh/lib/python3.9/site-packages (from checklist) (1.0.0)\n",
      "Requirement already satisfied: transformers>=2.8 in /home/sgupta32/.local/lib/python3.9/site-packages (from checklist) (4.6.1)\n",
      "Requirement already satisfied: patternfork-nosql in /home/sgupta32/.local/lib/python3.9/site-packages (from checklist) (3.6)\n",
      "Requirement already satisfied: dill>=0.3.1 in /home/sgupta32/.local/lib/python3.9/site-packages (from checklist) (0.3.4)\n",
      "Requirement already satisfied: iso-639 in /home/sgupta32/.local/lib/python3.9/site-packages (from checklist) (0.4.5)\n",
      "Requirement already satisfied: spacy>=2.2 in /home/sgupta32/.local/lib/python3.9/site-packages (from checklist) (3.5.2)\n",
      "Requirement already satisfied: ipywidgets>=7.5 in /opt/sw/spack/apps/linux-rhel8-x86_64_v2/gcc-10.3.0/python-3.9.9-jh/lib/python3.9/site-packages (from checklist) (7.7.0)\n",
      "Requirement already satisfied: ipython>=4.0.0 in /opt/sw/spack/apps/linux-rhel8-x86_64_v2/gcc-10.3.0/python-3.9.9-jh/lib/python3.9/site-packages (from ipywidgets>=7.5->checklist) (8.1.1)\n",
      "Requirement already satisfied: nbformat>=4.2.0 in /opt/sw/spack/apps/linux-rhel8-x86_64_v2/gcc-10.3.0/python-3.9.9-jh/lib/python3.9/site-packages (from ipywidgets>=7.5->checklist) (5.2.0)\n",
      "Requirement already satisfied: widgetsnbextension~=3.6.0 in /opt/sw/spack/apps/linux-rhel8-x86_64_v2/gcc-10.3.0/python-3.9.9-jh/lib/python3.9/site-packages (from ipywidgets>=7.5->checklist) (3.6.0)\n",
      "Requirement already satisfied: ipython-genutils~=0.2.0 in /opt/sw/spack/apps/linux-rhel8-x86_64_v2/gcc-10.3.0/python-3.9.9-jh/lib/python3.9/site-packages (from ipywidgets>=7.5->checklist) (0.2.0)\n",
      "Requirement already satisfied: ipykernel>=4.5.1 in /opt/sw/spack/apps/linux-rhel8-x86_64_v2/gcc-10.3.0/python-3.9.9-jh/lib/python3.9/site-packages (from ipywidgets>=7.5->checklist) (6.9.2)\n",
      "Requirement already satisfied: traitlets>=4.3.1 in /opt/sw/spack/apps/linux-rhel8-x86_64_v2/gcc-10.3.0/python-3.9.9-jh/lib/python3.9/site-packages (from ipywidgets>=7.5->checklist) (5.1.1)\n",
      "Requirement already satisfied: jupyterlab-widgets>=1.0.0 in /opt/sw/spack/apps/linux-rhel8-x86_64_v2/gcc-10.3.0/python-3.9.9-jh/lib/python3.9/site-packages (from ipywidgets>=7.5->checklist) (1.1.0)\n",
      "Requirement already satisfied: nbconvert in /opt/sw/spack/apps/linux-rhel8-x86_64_v2/gcc-10.3.0/python-3.9.9-jh/lib/python3.9/site-packages (from jupyter>=1.0->checklist) (6.4.4)\n",
      "Requirement already satisfied: notebook in /opt/sw/spack/apps/linux-rhel8-x86_64_v2/gcc-10.3.0/python-3.9.9-jh/lib/python3.9/site-packages (from jupyter>=1.0->checklist) (6.4.10)\n",
      "Requirement already satisfied: qtconsole in /opt/sw/spack/apps/linux-rhel8-x86_64_v2/gcc-10.3.0/python-3.9.9-jh/lib/python3.9/site-packages (from jupyter>=1.0->checklist) (5.2.2)\n",
      "Requirement already satisfied: jupyter-console in /opt/sw/spack/apps/linux-rhel8-x86_64_v2/gcc-10.3.0/python-3.9.9-jh/lib/python3.9/site-packages (from jupyter>=1.0->checklist) (6.4.3)\n",
      "Requirement already satisfied: six in /opt/sw/spack/apps/linux-rhel8-x86_64_v2/gcc-10.3.0/python-3.9.9-jh/lib/python3.9/site-packages (from munch>=2.5->checklist) (1.16.0)\n",
      "Requirement already satisfied: wasabi<1.2.0,>=0.9.1 in /home/sgupta32/.local/lib/python3.9/site-packages (from spacy>=2.2->checklist) (1.1.1)\n",
      "Requirement already satisfied: murmurhash<1.1.0,>=0.28.0 in /home/sgupta32/.local/lib/python3.9/site-packages (from spacy>=2.2->checklist) (1.0.9)\n",
      "Requirement already satisfied: typer<0.8.0,>=0.3.0 in /home/sgupta32/.local/lib/python3.9/site-packages (from spacy>=2.2->checklist) (0.7.0)\n",
      "Requirement already satisfied: tqdm<5.0.0,>=4.38.0 in /home/sgupta32/.local/lib/python3.9/site-packages (from spacy>=2.2->checklist) (4.49.0)\n",
      "Requirement already satisfied: pydantic!=1.8,!=1.8.1,<1.11.0,>=1.7.4 in /home/sgupta32/.local/lib/python3.9/site-packages (from spacy>=2.2->checklist) (1.10.7)\n",
      "Requirement already satisfied: catalogue<2.1.0,>=2.0.6 in /home/sgupta32/.local/lib/python3.9/site-packages (from spacy>=2.2->checklist) (2.0.8)\n",
      "Requirement already satisfied: langcodes<4.0.0,>=3.2.0 in /home/sgupta32/.local/lib/python3.9/site-packages (from spacy>=2.2->checklist) (3.3.0)\n",
      "Requirement already satisfied: srsly<3.0.0,>=2.4.3 in /home/sgupta32/.local/lib/python3.9/site-packages (from spacy>=2.2->checklist) (2.4.6)\n",
      "Requirement already satisfied: preshed<3.1.0,>=3.0.2 in /home/sgupta32/.local/lib/python3.9/site-packages (from spacy>=2.2->checklist) (3.0.8)\n",
      "Requirement already satisfied: setuptools in /home/sgupta32/.local/lib/python3.9/site-packages (from spacy>=2.2->checklist) (49.3.0)\n",
      "Requirement already satisfied: thinc<8.2.0,>=8.1.8 in /home/sgupta32/.local/lib/python3.9/site-packages (from spacy>=2.2->checklist) (8.1.10)\n",
      "Requirement already satisfied: jinja2 in /opt/sw/spack/apps/linux-rhel8-x86_64_v2/gcc-10.3.0/python-3.9.9-jh/lib/python3.9/site-packages (from spacy>=2.2->checklist) (3.1.0)\n",
      "Requirement already satisfied: spacy-legacy<3.1.0,>=3.0.11 in /home/sgupta32/.local/lib/python3.9/site-packages (from spacy>=2.2->checklist) (3.0.12)\n",
      "Requirement already satisfied: smart-open<7.0.0,>=5.2.1 in /home/sgupta32/.local/lib/python3.9/site-packages (from spacy>=2.2->checklist) (6.3.0)\n",
      "Requirement already satisfied: packaging>=20.0 in /opt/sw/spack/apps/linux-rhel8-x86_64_v2/gcc-10.3.0/python-3.9.9-jh/lib/python3.9/site-packages (from spacy>=2.2->checklist) (21.3)\n",
      "Requirement already satisfied: cymem<2.1.0,>=2.0.2 in /home/sgupta32/.local/lib/python3.9/site-packages (from spacy>=2.2->checklist) (2.0.7)\n",
      "Requirement already satisfied: pathy>=0.10.0 in /home/sgupta32/.local/lib/python3.9/site-packages (from spacy>=2.2->checklist) (0.10.1)\n",
      "Requirement already satisfied: spacy-loggers<2.0.0,>=1.0.0 in /home/sgupta32/.local/lib/python3.9/site-packages (from spacy>=2.2->checklist) (1.0.4)\n",
      "Requirement already satisfied: requests<3.0.0,>=2.13.0 in /opt/sw/spack/apps/linux-rhel8-x86_64_v2/gcc-10.3.0/python-3.9.9-jh/lib/python3.9/site-packages (from spacy>=2.2->checklist) (2.27.1)\n",
      "Requirement already satisfied: huggingface-hub==0.0.8 in /home/sgupta32/.local/lib/python3.9/site-packages (from transformers>=2.8->checklist) (0.0.8)\n",
      "Requirement already satisfied: filelock in /opt/sw/spack/apps/linux-rhel8-x86_64_v2/gcc-10.3.0/python-3.9.9-jh/lib/python3.9/site-packages (from transformers>=2.8->checklist) (3.6.0)\n",
      "Requirement already satisfied: sacremoses in /home/sgupta32/.local/lib/python3.9/site-packages (from transformers>=2.8->checklist) (0.0.53)\n",
      "Requirement already satisfied: tokenizers<0.11,>=0.10.1 in /home/sgupta32/.local/lib/python3.9/site-packages (from transformers>=2.8->checklist) (0.10.3)\n",
      "Requirement already satisfied: regex!=2019.12.17 in /home/sgupta32/.local/lib/python3.9/site-packages (from transformers>=2.8->checklist) (2023.3.23)\n",
      "Requirement already satisfied: lxml in /opt/sw/spack/apps/linux-rhel8-x86_64_v2/gcc-10.3.0/python-3.9.9-jh/lib/python3.9/site-packages (from patternfork-nosql->checklist) (4.8.0)\n",
      "Requirement already satisfied: future in /home/sgupta32/.local/lib/python3.9/site-packages (from patternfork-nosql->checklist) (0.18.3)\n",
      "Requirement already satisfied: beautifulsoup4 in /opt/sw/spack/apps/linux-rhel8-x86_64_v2/gcc-10.3.0/python-3.9.9-jh/lib/python3.9/site-packages (from patternfork-nosql->checklist) (4.10.0)\n",
      "Requirement already satisfied: scipy in /home/sgupta32/.local/lib/python3.9/site-packages (from patternfork-nosql->checklist) (1.5.4)\n",
      "Requirement already satisfied: python-docx in /home/sgupta32/.local/lib/python3.9/site-packages (from patternfork-nosql->checklist) (0.8.11)\n",
      "Requirement already satisfied: nltk in /home/sgupta32/.local/lib/python3.9/site-packages (from patternfork-nosql->checklist) (3.8.1)\n",
      "Requirement already satisfied: feedparser in /home/sgupta32/.local/lib/python3.9/site-packages (from patternfork-nosql->checklist) (6.0.10)\n",
      "Requirement already satisfied: backports.csv in /home/sgupta32/.local/lib/python3.9/site-packages (from patternfork-nosql->checklist) (1.0.7)\n",
      "Requirement already satisfied: pdfminer.six in /home/sgupta32/.local/lib/python3.9/site-packages (from patternfork-nosql->checklist) (20221105)\n",
      "Requirement already satisfied: cherrypy in /home/sgupta32/.local/lib/python3.9/site-packages (from patternfork-nosql->checklist) (18.8.0)\n",
      "Requirement already satisfied: debugpy<2.0,>=1.0.0 in /opt/sw/spack/apps/linux-rhel8-x86_64_v2/gcc-10.3.0/python-3.9.9-jh/lib/python3.9/site-packages (from ipykernel>=4.5.1->ipywidgets>=7.5->checklist) (1.6.0)\n",
      "Requirement already satisfied: tornado<7.0,>=4.2 in /opt/sw/spack/apps/linux-rhel8-x86_64_v2/gcc-10.3.0/python-3.9.9-jh/lib/python3.9/site-packages (from ipykernel>=4.5.1->ipywidgets>=7.5->checklist) (6.1)\n",
      "Requirement already satisfied: nest-asyncio in /opt/sw/spack/apps/linux-rhel8-x86_64_v2/gcc-10.3.0/python-3.9.9-jh/lib/python3.9/site-packages (from ipykernel>=4.5.1->ipywidgets>=7.5->checklist) (1.5.4)\n",
      "Requirement already satisfied: matplotlib-inline<0.2.0,>=0.1.0 in /opt/sw/spack/apps/linux-rhel8-x86_64_v2/gcc-10.3.0/python-3.9.9-jh/lib/python3.9/site-packages (from ipykernel>=4.5.1->ipywidgets>=7.5->checklist) (0.1.3)\n",
      "Requirement already satisfied: psutil in /opt/sw/spack/apps/linux-rhel8-x86_64_v2/gcc-10.3.0/python-3.9.9-jh/lib/python3.9/site-packages (from ipykernel>=4.5.1->ipywidgets>=7.5->checklist) (5.9.0)\n",
      "Requirement already satisfied: jupyter-client<8.0 in /opt/sw/spack/apps/linux-rhel8-x86_64_v2/gcc-10.3.0/python-3.9.9-jh/lib/python3.9/site-packages (from ipykernel>=4.5.1->ipywidgets>=7.5->checklist) (7.1.2)\n",
      "Requirement already satisfied: decorator in /opt/sw/spack/apps/linux-rhel8-x86_64_v2/gcc-10.3.0/python-3.9.9-jh/lib/python3.9/site-packages (from ipython>=4.0.0->ipywidgets>=7.5->checklist) (5.1.1)\n",
      "Requirement already satisfied: pickleshare in /opt/sw/spack/apps/linux-rhel8-x86_64_v2/gcc-10.3.0/python-3.9.9-jh/lib/python3.9/site-packages (from ipython>=4.0.0->ipywidgets>=7.5->checklist) (0.7.5)\n",
      "Requirement already satisfied: pexpect>4.3 in /opt/sw/spack/apps/linux-rhel8-x86_64_v2/gcc-10.3.0/python-3.9.9-jh/lib/python3.9/site-packages (from ipython>=4.0.0->ipywidgets>=7.5->checklist) (4.8.0)\n",
      "Requirement already satisfied: jedi>=0.16 in /opt/sw/spack/apps/linux-rhel8-x86_64_v2/gcc-10.3.0/python-3.9.9-jh/lib/python3.9/site-packages (from ipython>=4.0.0->ipywidgets>=7.5->checklist) (0.18.1)\n",
      "Requirement already satisfied: stack-data in /opt/sw/spack/apps/linux-rhel8-x86_64_v2/gcc-10.3.0/python-3.9.9-jh/lib/python3.9/site-packages (from ipython>=4.0.0->ipywidgets>=7.5->checklist) (0.2.0)\n",
      "Requirement already satisfied: pygments>=2.4.0 in /opt/sw/spack/apps/linux-rhel8-x86_64_v2/gcc-10.3.0/python-3.9.9-jh/lib/python3.9/site-packages (from ipython>=4.0.0->ipywidgets>=7.5->checklist) (2.11.2)\n",
      "Requirement already satisfied: backcall in /opt/sw/spack/apps/linux-rhel8-x86_64_v2/gcc-10.3.0/python-3.9.9-jh/lib/python3.9/site-packages (from ipython>=4.0.0->ipywidgets>=7.5->checklist) (0.2.0)\n",
      "Requirement already satisfied: prompt-toolkit!=3.0.0,!=3.0.1,<3.1.0,>=2.0.0 in /opt/sw/spack/apps/linux-rhel8-x86_64_v2/gcc-10.3.0/python-3.9.9-jh/lib/python3.9/site-packages (from ipython>=4.0.0->ipywidgets>=7.5->checklist) (3.0.28)\n",
      "Requirement already satisfied: jsonschema!=2.5.0,>=2.4 in /opt/sw/spack/apps/linux-rhel8-x86_64_v2/gcc-10.3.0/python-3.9.9-jh/lib/python3.9/site-packages (from nbformat>=4.2.0->ipywidgets>=7.5->checklist) (3.2.0)\n",
      "Requirement already satisfied: jupyter-core in /opt/sw/spack/apps/linux-rhel8-x86_64_v2/gcc-10.3.0/python-3.9.9-jh/lib/python3.9/site-packages (from nbformat>=4.2.0->ipywidgets>=7.5->checklist) (4.9.2)\n",
      "Requirement already satisfied: pyparsing!=3.0.5,>=2.0.2 in /opt/sw/spack/apps/linux-rhel8-x86_64_v2/gcc-10.3.0/python-3.9.9-jh/lib/python3.9/site-packages (from packaging>=20.0->spacy>=2.2->checklist) (3.0.7)\n",
      "Requirement already satisfied: typing-extensions>=4.2.0 in /home/sgupta32/.local/lib/python3.9/site-packages (from pydantic!=1.8,!=1.8.1,<1.11.0,>=1.7.4->spacy>=2.2->checklist) (4.5.0)\n",
      "Requirement already satisfied: idna<4,>=2.5 in /opt/sw/spack/apps/linux-rhel8-x86_64_v2/gcc-10.3.0/python-3.9.9-jh/lib/python3.9/site-packages (from requests<3.0.0,>=2.13.0->spacy>=2.2->checklist) (3.3)\n",
      "Requirement already satisfied: certifi>=2017.4.17 in /opt/sw/spack/apps/linux-rhel8-x86_64_v2/gcc-10.3.0/python-3.9.9-jh/lib/python3.9/site-packages (from requests<3.0.0,>=2.13.0->spacy>=2.2->checklist) (2021.10.8)\n",
      "Requirement already satisfied: urllib3<1.27,>=1.21.1 in /opt/sw/spack/apps/linux-rhel8-x86_64_v2/gcc-10.3.0/python-3.9.9-jh/lib/python3.9/site-packages (from requests<3.0.0,>=2.13.0->spacy>=2.2->checklist) (1.26.9)\n",
      "Requirement already satisfied: charset-normalizer~=2.0.0 in /opt/sw/spack/apps/linux-rhel8-x86_64_v2/gcc-10.3.0/python-3.9.9-jh/lib/python3.9/site-packages (from requests<3.0.0,>=2.13.0->spacy>=2.2->checklist) (2.0.12)\n",
      "Requirement already satisfied: confection<1.0.0,>=0.0.1 in /home/sgupta32/.local/lib/python3.9/site-packages (from thinc<8.2.0,>=8.1.8->spacy>=2.2->checklist) (0.0.4)\n",
      "Requirement already satisfied: blis<0.8.0,>=0.7.8 in /home/sgupta32/.local/lib/python3.9/site-packages (from thinc<8.2.0,>=8.1.8->spacy>=2.2->checklist) (0.7.9)\n",
      "Requirement already satisfied: click<9.0.0,>=7.1.1 in /opt/sw/spack/apps/linux-rhel8-x86_64_v2/gcc-10.3.0/python-3.9.9-jh/lib/python3.9/site-packages (from typer<0.8.0,>=0.3.0->spacy>=2.2->checklist) (8.0.4)\n",
      "Requirement already satisfied: terminado>=0.8.3 in /opt/sw/spack/apps/linux-rhel8-x86_64_v2/gcc-10.3.0/python-3.9.9-jh/lib/python3.9/site-packages (from notebook->jupyter>=1.0->checklist) (0.13.3)\n",
      "Requirement already satisfied: prometheus-client in /opt/sw/spack/apps/linux-rhel8-x86_64_v2/gcc-10.3.0/python-3.9.9-jh/lib/python3.9/site-packages (from notebook->jupyter>=1.0->checklist) (0.13.1)\n",
      "Requirement already satisfied: pyzmq>=17 in /opt/sw/spack/apps/linux-rhel8-x86_64_v2/gcc-10.3.0/python-3.9.9-jh/lib/python3.9/site-packages (from notebook->jupyter>=1.0->checklist) (22.3.0)\n",
      "Requirement already satisfied: Send2Trash>=1.8.0 in /opt/sw/spack/apps/linux-rhel8-x86_64_v2/gcc-10.3.0/python-3.9.9-jh/lib/python3.9/site-packages (from notebook->jupyter>=1.0->checklist) (1.8.0)\n",
      "Requirement already satisfied: argon2-cffi in /opt/sw/spack/apps/linux-rhel8-x86_64_v2/gcc-10.3.0/python-3.9.9-jh/lib/python3.9/site-packages (from notebook->jupyter>=1.0->checklist) (21.3.0)\n",
      "Requirement already satisfied: jupyterlab-pygments in /opt/sw/spack/apps/linux-rhel8-x86_64_v2/gcc-10.3.0/python-3.9.9-jh/lib/python3.9/site-packages (from nbconvert->jupyter>=1.0->checklist) (0.1.2)\n",
      "Requirement already satisfied: defusedxml in /opt/sw/spack/apps/linux-rhel8-x86_64_v2/gcc-10.3.0/python-3.9.9-jh/lib/python3.9/site-packages (from nbconvert->jupyter>=1.0->checklist) (0.7.1)\n",
      "Requirement already satisfied: nbclient<0.6.0,>=0.5.0 in /opt/sw/spack/apps/linux-rhel8-x86_64_v2/gcc-10.3.0/python-3.9.9-jh/lib/python3.9/site-packages (from nbconvert->jupyter>=1.0->checklist) (0.5.13)\n",
      "Requirement already satisfied: entrypoints>=0.2.2 in /opt/sw/spack/apps/linux-rhel8-x86_64_v2/gcc-10.3.0/python-3.9.9-jh/lib/python3.9/site-packages (from nbconvert->jupyter>=1.0->checklist) (0.4)\n",
      "Requirement already satisfied: testpath in /opt/sw/spack/apps/linux-rhel8-x86_64_v2/gcc-10.3.0/python-3.9.9-jh/lib/python3.9/site-packages (from nbconvert->jupyter>=1.0->checklist) (0.6.0)\n",
      "Requirement already satisfied: mistune<2,>=0.8.1 in /opt/sw/spack/apps/linux-rhel8-x86_64_v2/gcc-10.3.0/python-3.9.9-jh/lib/python3.9/site-packages (from nbconvert->jupyter>=1.0->checklist) (0.8.4)\n",
      "Requirement already satisfied: pandocfilters>=1.4.1 in /opt/sw/spack/apps/linux-rhel8-x86_64_v2/gcc-10.3.0/python-3.9.9-jh/lib/python3.9/site-packages (from nbconvert->jupyter>=1.0->checklist) (1.5.0)\n",
      "Requirement already satisfied: bleach in /opt/sw/spack/apps/linux-rhel8-x86_64_v2/gcc-10.3.0/python-3.9.9-jh/lib/python3.9/site-packages (from nbconvert->jupyter>=1.0->checklist) (4.1.0)\n",
      "Requirement already satisfied: MarkupSafe>=2.0 in /opt/sw/spack/apps/linux-rhel8-x86_64_v2/gcc-10.3.0/python-3.9.9-jh/lib/python3.9/site-packages (from jinja2->spacy>=2.2->checklist) (2.1.1)\n",
      "Requirement already satisfied: soupsieve>1.2 in /opt/sw/spack/apps/linux-rhel8-x86_64_v2/gcc-10.3.0/python-3.9.9-jh/lib/python3.9/site-packages (from beautifulsoup4->patternfork-nosql->checklist) (2.3.1)\n",
      "Requirement already satisfied: cheroot>=8.2.1 in /home/sgupta32/.local/lib/python3.9/site-packages (from cherrypy->patternfork-nosql->checklist) (9.0.0)\n",
      "Requirement already satisfied: more-itertools in /opt/sw/spack/apps/linux-rhel8-x86_64_v2/gcc-10.3.0/python-3.9.9-jh/lib/python3.9/site-packages (from cherrypy->patternfork-nosql->checklist) (8.12.0)\n",
      "Requirement already satisfied: portend>=2.1.1 in /home/sgupta32/.local/lib/python3.9/site-packages (from cherrypy->patternfork-nosql->checklist) (3.1.0)\n",
      "Requirement already satisfied: jaraco.collections in /home/sgupta32/.local/lib/python3.9/site-packages (from cherrypy->patternfork-nosql->checklist) (4.1.0)\n",
      "Requirement already satisfied: zc.lockfile in /home/sgupta32/.local/lib/python3.9/site-packages (from cherrypy->patternfork-nosql->checklist) (3.0.post1)\n",
      "Requirement already satisfied: sgmllib3k in /home/sgupta32/.local/lib/python3.9/site-packages (from feedparser->patternfork-nosql->checklist) (1.0.0)\n",
      "Requirement already satisfied: joblib in /opt/sw/spack/apps/linux-rhel8-x86_64_v2/gcc-10.3.0/python-3.9.9-jh/lib/python3.9/site-packages (from nltk->patternfork-nosql->checklist) (1.1.0)\n",
      "Requirement already satisfied: cryptography>=36.0.0 in /opt/sw/spack/apps/linux-rhel8-x86_64_v2/gcc-10.3.0/python-3.9.9-jh/lib/python3.9/site-packages (from pdfminer.six->patternfork-nosql->checklist) (36.0.2)\n",
      "Requirement already satisfied: qtpy in /opt/sw/spack/apps/linux-rhel8-x86_64_v2/gcc-10.3.0/python-3.9.9-jh/lib/python3.9/site-packages (from qtconsole->jupyter>=1.0->checklist) (2.0.1)\n",
      "Requirement already satisfied: jaraco.functools in /home/sgupta32/.local/lib/python3.9/site-packages (from cheroot>=8.2.1->cherrypy->patternfork-nosql->checklist) (3.6.0)\n",
      "Requirement already satisfied: cffi>=1.12 in /opt/sw/spack/apps/linux-rhel8-x86_64_v2/gcc-10.3.0/python-3.9.9-jh/lib/python3.9/site-packages (from cryptography>=36.0.0->pdfminer.six->patternfork-nosql->checklist) (1.15.0)\n",
      "Requirement already satisfied: parso<0.9.0,>=0.8.0 in /opt/sw/spack/apps/linux-rhel8-x86_64_v2/gcc-10.3.0/python-3.9.9-jh/lib/python3.9/site-packages (from jedi>=0.16->ipython>=4.0.0->ipywidgets>=7.5->checklist) (0.8.3)\n",
      "Requirement already satisfied: attrs>=17.4.0 in /opt/sw/spack/apps/linux-rhel8-x86_64_v2/gcc-10.3.0/python-3.9.9-jh/lib/python3.9/site-packages (from jsonschema!=2.5.0,>=2.4->nbformat>=4.2.0->ipywidgets>=7.5->checklist) (21.4.0)\n",
      "Requirement already satisfied: pyrsistent>=0.14.0 in /opt/sw/spack/apps/linux-rhel8-x86_64_v2/gcc-10.3.0/python-3.9.9-jh/lib/python3.9/site-packages (from jsonschema!=2.5.0,>=2.4->nbformat>=4.2.0->ipywidgets>=7.5->checklist) (0.18.1)\n",
      "Requirement already satisfied: python-dateutil>=2.1 in /opt/sw/spack/apps/linux-rhel8-x86_64_v2/gcc-10.3.0/python-3.9.9-jh/lib/python3.9/site-packages (from jupyter-client<8.0->ipykernel>=4.5.1->ipywidgets>=7.5->checklist) (2.8.1)\n",
      "Requirement already satisfied: ptyprocess>=0.5 in /opt/sw/spack/apps/linux-rhel8-x86_64_v2/gcc-10.3.0/python-3.9.9-jh/lib/python3.9/site-packages (from pexpect>4.3->ipython>=4.0.0->ipywidgets>=7.5->checklist) (0.7.0)\n",
      "Requirement already satisfied: tempora>=1.8 in /home/sgupta32/.local/lib/python3.9/site-packages (from portend>=2.1.1->cherrypy->patternfork-nosql->checklist) (5.2.2)\n",
      "Requirement already satisfied: wcwidth in /opt/sw/spack/apps/linux-rhel8-x86_64_v2/gcc-10.3.0/python-3.9.9-jh/lib/python3.9/site-packages (from prompt-toolkit!=3.0.0,!=3.0.1,<3.1.0,>=2.0.0->ipython>=4.0.0->ipywidgets>=7.5->checklist) (0.2.5)\n",
      "Requirement already satisfied: argon2-cffi-bindings in /opt/sw/spack/apps/linux-rhel8-x86_64_v2/gcc-10.3.0/python-3.9.9-jh/lib/python3.9/site-packages (from argon2-cffi->notebook->jupyter>=1.0->checklist) (21.2.0)\n",
      "Requirement already satisfied: webencodings in /opt/sw/spack/apps/linux-rhel8-x86_64_v2/gcc-10.3.0/python-3.9.9-jh/lib/python3.9/site-packages (from bleach->nbconvert->jupyter>=1.0->checklist) (0.5.1)\n",
      "Requirement already satisfied: jaraco.text in /home/sgupta32/.local/lib/python3.9/site-packages (from jaraco.collections->cherrypy->patternfork-nosql->checklist) (3.11.1)\n",
      "Requirement already satisfied: asttokens in /opt/sw/spack/apps/linux-rhel8-x86_64_v2/gcc-10.3.0/python-3.9.9-jh/lib/python3.9/site-packages (from stack-data->ipython>=4.0.0->ipywidgets>=7.5->checklist) (2.0.5)\n",
      "Requirement already satisfied: executing in /opt/sw/spack/apps/linux-rhel8-x86_64_v2/gcc-10.3.0/python-3.9.9-jh/lib/python3.9/site-packages (from stack-data->ipython>=4.0.0->ipywidgets>=7.5->checklist) (0.8.3)\n",
      "Requirement already satisfied: pure-eval in /opt/sw/spack/apps/linux-rhel8-x86_64_v2/gcc-10.3.0/python-3.9.9-jh/lib/python3.9/site-packages (from stack-data->ipython>=4.0.0->ipywidgets>=7.5->checklist) (0.2.2)\n",
      "Requirement already satisfied: pycparser in /opt/sw/spack/apps/linux-rhel8-x86_64_v2/gcc-10.3.0/python-3.9.9-jh/lib/python3.9/site-packages (from cffi>=1.12->cryptography>=36.0.0->pdfminer.six->patternfork-nosql->checklist) (2.21)\n",
      "Requirement already satisfied: pytz in /opt/sw/spack/apps/linux-rhel8-x86_64_v2/gcc-10.3.0/python-3.9.9-jh/lib/python3.9/site-packages (from tempora>=1.8->portend>=2.1.1->cherrypy->patternfork-nosql->checklist) (2019.3)\n",
      "Requirement already satisfied: jaraco.context>=4.1 in /home/sgupta32/.local/lib/python3.9/site-packages (from jaraco.text->jaraco.collections->cherrypy->patternfork-nosql->checklist) (4.3.0)\n",
      "Requirement already satisfied: autocommand in /home/sgupta32/.local/lib/python3.9/site-packages (from jaraco.text->jaraco.collections->cherrypy->patternfork-nosql->checklist) (2.2.2)\n",
      "Requirement already satisfied: inflect in /home/sgupta32/.local/lib/python3.9/site-packages (from jaraco.text->jaraco.collections->cherrypy->patternfork-nosql->checklist) (6.0.4)\n",
      "\u001b[33mWARNING: Ignoring invalid distribution -orch (/home/sgupta32/.local/lib/python3.9/site-packages)\u001b[0m\u001b[33m\n",
      "\u001b[0m\u001b[33mWARNING: Ignoring invalid distribution -orch (/home/sgupta32/.local/lib/python3.9/site-packages)\u001b[0m\u001b[33m\n",
      "\u001b[0m\u001b[33mWARNING: Ignoring invalid distribution -orch (/home/sgupta32/.local/lib/python3.9/site-packages)\u001b[0m\u001b[33m\n",
      "\u001b[0m\u001b[33mWARNING: Ignoring invalid distribution -orch (/home/sgupta32/.local/lib/python3.9/site-packages)\u001b[0m\u001b[33m\n",
      "\u001b[0m\n",
      "\u001b[1m[\u001b[0m\u001b[34;49mnotice\u001b[0m\u001b[1;39;49m]\u001b[0m\u001b[39;49m A new release of pip is available: \u001b[0m\u001b[31;49m23.0.1\u001b[0m\u001b[39;49m -> \u001b[0m\u001b[32;49m23.1.2\u001b[0m\n",
      "\u001b[1m[\u001b[0m\u001b[34;49mnotice\u001b[0m\u001b[1;39;49m]\u001b[0m\u001b[39;49m To update, run: \u001b[0m\u001b[32;49mpip install --upgrade pip\u001b[0m\n"
     ]
    }
   ],
   "source": [
    "!pip install checklist"
   ]
  },
  {
   "cell_type": "code",
   "execution_count": 3,
   "id": "d5a01337-5c6a-4d8e-ab18-4b4a4a753ea7",
   "metadata": {
    "tags": []
   },
   "outputs": [
    {
     "name": "stdout",
     "output_type": "stream",
     "text": [
      "Defaulting to user installation because normal site-packages is not writeable\n",
      "\u001b[33mWARNING: Ignoring invalid distribution -orch (/home/sgupta32/.local/lib/python3.9/site-packages)\u001b[0m\u001b[33m\n",
      "\u001b[0m\u001b[33mWARNING: Ignoring invalid distribution -orch (/home/sgupta32/.local/lib/python3.9/site-packages)\u001b[0m\u001b[33m\n",
      "\u001b[0mRequirement already satisfied: nltk in /home/sgupta32/.local/lib/python3.9/site-packages (3.8.1)\n",
      "Requirement already satisfied: regex>=2021.8.3 in /home/sgupta32/.local/lib/python3.9/site-packages (from nltk) (2023.3.23)\n",
      "Requirement already satisfied: click in /opt/sw/spack/apps/linux-rhel8-x86_64_v2/gcc-10.3.0/python-3.9.9-jh/lib/python3.9/site-packages (from nltk) (8.0.4)\n",
      "Requirement already satisfied: tqdm in /home/sgupta32/.local/lib/python3.9/site-packages (from nltk) (4.49.0)\n",
      "Requirement already satisfied: joblib in /opt/sw/spack/apps/linux-rhel8-x86_64_v2/gcc-10.3.0/python-3.9.9-jh/lib/python3.9/site-packages (from nltk) (1.1.0)\n",
      "\u001b[33mWARNING: Ignoring invalid distribution -orch (/home/sgupta32/.local/lib/python3.9/site-packages)\u001b[0m\u001b[33m\n",
      "\u001b[0m\u001b[33mWARNING: Ignoring invalid distribution -orch (/home/sgupta32/.local/lib/python3.9/site-packages)\u001b[0m\u001b[33m\n",
      "\u001b[0m\u001b[33mWARNING: Ignoring invalid distribution -orch (/home/sgupta32/.local/lib/python3.9/site-packages)\u001b[0m\u001b[33m\n",
      "\u001b[0m\u001b[33mWARNING: Ignoring invalid distribution -orch (/home/sgupta32/.local/lib/python3.9/site-packages)\u001b[0m\u001b[33m\n",
      "\u001b[0m\n",
      "\u001b[1m[\u001b[0m\u001b[34;49mnotice\u001b[0m\u001b[1;39;49m]\u001b[0m\u001b[39;49m A new release of pip is available: \u001b[0m\u001b[31;49m23.0.1\u001b[0m\u001b[39;49m -> \u001b[0m\u001b[32;49m23.1.2\u001b[0m\n",
      "\u001b[1m[\u001b[0m\u001b[34;49mnotice\u001b[0m\u001b[1;39;49m]\u001b[0m\u001b[39;49m To update, run: \u001b[0m\u001b[32;49mpip install --upgrade pip\u001b[0m\n"
     ]
    }
   ],
   "source": [
    "!pip install -U nltk"
   ]
  },
  {
   "cell_type": "code",
   "execution_count": 4,
   "id": "5c9789ff-42c2-4a9e-b701-b40f96d17f03",
   "metadata": {
    "tags": []
   },
   "outputs": [
    {
     "name": "stdout",
     "output_type": "stream",
     "text": [
      "Defaulting to user installation because normal site-packages is not writeable\n",
      "\u001b[33mWARNING: Ignoring invalid distribution -orch (/home/sgupta32/.local/lib/python3.9/site-packages)\u001b[0m\u001b[33m\n",
      "\u001b[0m\u001b[33mWARNING: Ignoring invalid distribution -orch (/home/sgupta32/.local/lib/python3.9/site-packages)\u001b[0m\u001b[33m\n",
      "\u001b[0mRequirement already satisfied: spacy in /home/sgupta32/.local/lib/python3.9/site-packages (3.5.2)\n",
      "Requirement already satisfied: thinc<8.2.0,>=8.1.8 in /home/sgupta32/.local/lib/python3.9/site-packages (from spacy) (8.1.10)\n",
      "Requirement already satisfied: pathy>=0.10.0 in /home/sgupta32/.local/lib/python3.9/site-packages (from spacy) (0.10.1)\n",
      "Requirement already satisfied: jinja2 in /opt/sw/spack/apps/linux-rhel8-x86_64_v2/gcc-10.3.0/python-3.9.9-jh/lib/python3.9/site-packages (from spacy) (3.1.0)\n",
      "Requirement already satisfied: wasabi<1.2.0,>=0.9.1 in /home/sgupta32/.local/lib/python3.9/site-packages (from spacy) (1.1.1)\n",
      "Requirement already satisfied: typer<0.8.0,>=0.3.0 in /home/sgupta32/.local/lib/python3.9/site-packages (from spacy) (0.7.0)\n",
      "Requirement already satisfied: spacy-loggers<2.0.0,>=1.0.0 in /home/sgupta32/.local/lib/python3.9/site-packages (from spacy) (1.0.4)\n",
      "Requirement already satisfied: catalogue<2.1.0,>=2.0.6 in /home/sgupta32/.local/lib/python3.9/site-packages (from spacy) (2.0.8)\n",
      "Requirement already satisfied: murmurhash<1.1.0,>=0.28.0 in /home/sgupta32/.local/lib/python3.9/site-packages (from spacy) (1.0.9)\n",
      "Requirement already satisfied: tqdm<5.0.0,>=4.38.0 in /home/sgupta32/.local/lib/python3.9/site-packages (from spacy) (4.49.0)\n",
      "Requirement already satisfied: cymem<2.1.0,>=2.0.2 in /home/sgupta32/.local/lib/python3.9/site-packages (from spacy) (2.0.7)\n",
      "Requirement already satisfied: langcodes<4.0.0,>=3.2.0 in /home/sgupta32/.local/lib/python3.9/site-packages (from spacy) (3.3.0)\n",
      "Requirement already satisfied: numpy>=1.15.0 in /opt/sw/spack/apps/linux-rhel8-x86_64_v2/gcc-10.3.0/python-3.9.9-jh/lib/python3.9/site-packages (from spacy) (1.22.3)\n",
      "Requirement already satisfied: setuptools in /home/sgupta32/.local/lib/python3.9/site-packages (from spacy) (49.3.0)\n",
      "Requirement already satisfied: srsly<3.0.0,>=2.4.3 in /home/sgupta32/.local/lib/python3.9/site-packages (from spacy) (2.4.6)\n",
      "Requirement already satisfied: requests<3.0.0,>=2.13.0 in /opt/sw/spack/apps/linux-rhel8-x86_64_v2/gcc-10.3.0/python-3.9.9-jh/lib/python3.9/site-packages (from spacy) (2.27.1)\n",
      "Requirement already satisfied: spacy-legacy<3.1.0,>=3.0.11 in /home/sgupta32/.local/lib/python3.9/site-packages (from spacy) (3.0.12)\n",
      "Requirement already satisfied: smart-open<7.0.0,>=5.2.1 in /home/sgupta32/.local/lib/python3.9/site-packages (from spacy) (6.3.0)\n",
      "Requirement already satisfied: pydantic!=1.8,!=1.8.1,<1.11.0,>=1.7.4 in /home/sgupta32/.local/lib/python3.9/site-packages (from spacy) (1.10.7)\n",
      "Requirement already satisfied: packaging>=20.0 in /opt/sw/spack/apps/linux-rhel8-x86_64_v2/gcc-10.3.0/python-3.9.9-jh/lib/python3.9/site-packages (from spacy) (21.3)\n",
      "Requirement already satisfied: preshed<3.1.0,>=3.0.2 in /home/sgupta32/.local/lib/python3.9/site-packages (from spacy) (3.0.8)\n",
      "Requirement already satisfied: pyparsing!=3.0.5,>=2.0.2 in /opt/sw/spack/apps/linux-rhel8-x86_64_v2/gcc-10.3.0/python-3.9.9-jh/lib/python3.9/site-packages (from packaging>=20.0->spacy) (3.0.7)\n",
      "Requirement already satisfied: typing-extensions>=4.2.0 in /home/sgupta32/.local/lib/python3.9/site-packages (from pydantic!=1.8,!=1.8.1,<1.11.0,>=1.7.4->spacy) (4.5.0)\n",
      "Requirement already satisfied: urllib3<1.27,>=1.21.1 in /opt/sw/spack/apps/linux-rhel8-x86_64_v2/gcc-10.3.0/python-3.9.9-jh/lib/python3.9/site-packages (from requests<3.0.0,>=2.13.0->spacy) (1.26.9)\n",
      "Requirement already satisfied: idna<4,>=2.5 in /opt/sw/spack/apps/linux-rhel8-x86_64_v2/gcc-10.3.0/python-3.9.9-jh/lib/python3.9/site-packages (from requests<3.0.0,>=2.13.0->spacy) (3.3)\n",
      "Requirement already satisfied: certifi>=2017.4.17 in /opt/sw/spack/apps/linux-rhel8-x86_64_v2/gcc-10.3.0/python-3.9.9-jh/lib/python3.9/site-packages (from requests<3.0.0,>=2.13.0->spacy) (2021.10.8)\n",
      "Requirement already satisfied: charset-normalizer~=2.0.0 in /opt/sw/spack/apps/linux-rhel8-x86_64_v2/gcc-10.3.0/python-3.9.9-jh/lib/python3.9/site-packages (from requests<3.0.0,>=2.13.0->spacy) (2.0.12)\n",
      "Requirement already satisfied: confection<1.0.0,>=0.0.1 in /home/sgupta32/.local/lib/python3.9/site-packages (from thinc<8.2.0,>=8.1.8->spacy) (0.0.4)\n",
      "Requirement already satisfied: blis<0.8.0,>=0.7.8 in /home/sgupta32/.local/lib/python3.9/site-packages (from thinc<8.2.0,>=8.1.8->spacy) (0.7.9)\n",
      "Requirement already satisfied: click<9.0.0,>=7.1.1 in /opt/sw/spack/apps/linux-rhel8-x86_64_v2/gcc-10.3.0/python-3.9.9-jh/lib/python3.9/site-packages (from typer<0.8.0,>=0.3.0->spacy) (8.0.4)\n",
      "Requirement already satisfied: MarkupSafe>=2.0 in /opt/sw/spack/apps/linux-rhel8-x86_64_v2/gcc-10.3.0/python-3.9.9-jh/lib/python3.9/site-packages (from jinja2->spacy) (2.1.1)\n",
      "\u001b[33mWARNING: Ignoring invalid distribution -orch (/home/sgupta32/.local/lib/python3.9/site-packages)\u001b[0m\u001b[33m\n",
      "\u001b[0m\u001b[33mWARNING: Ignoring invalid distribution -orch (/home/sgupta32/.local/lib/python3.9/site-packages)\u001b[0m\u001b[33m\n",
      "\u001b[0m\u001b[33mWARNING: Ignoring invalid distribution -orch (/home/sgupta32/.local/lib/python3.9/site-packages)\u001b[0m\u001b[33m\n",
      "\u001b[0m\u001b[33mWARNING: Ignoring invalid distribution -orch (/home/sgupta32/.local/lib/python3.9/site-packages)\u001b[0m\u001b[33m\n",
      "\u001b[0m\n",
      "\u001b[1m[\u001b[0m\u001b[34;49mnotice\u001b[0m\u001b[1;39;49m]\u001b[0m\u001b[39;49m A new release of pip is available: \u001b[0m\u001b[31;49m23.0.1\u001b[0m\u001b[39;49m -> \u001b[0m\u001b[32;49m23.1.2\u001b[0m\n",
      "\u001b[1m[\u001b[0m\u001b[34;49mnotice\u001b[0m\u001b[1;39;49m]\u001b[0m\u001b[39;49m To update, run: \u001b[0m\u001b[32;49mpip install --upgrade pip\u001b[0m\n"
     ]
    }
   ],
   "source": [
    "!pip install spacy"
   ]
  },
  {
   "cell_type": "code",
   "execution_count": 5,
   "id": "783f637a-aafc-462a-962c-1516071710b8",
   "metadata": {
    "tags": []
   },
   "outputs": [
    {
     "name": "stdout",
     "output_type": "stream",
     "text": [
      "Defaulting to user installation because normal site-packages is not writeable\n",
      "\u001b[33mWARNING: Ignoring invalid distribution -orch (/home/sgupta32/.local/lib/python3.9/site-packages)\u001b[0m\u001b[33m\n",
      "\u001b[0m\u001b[33mWARNING: Ignoring invalid distribution -orch (/home/sgupta32/.local/lib/python3.9/site-packages)\u001b[0m\u001b[33m\n",
      "\u001b[0mCollecting en-core-web-sm==3.5.0\n",
      "  Downloading https://github.com/explosion/spacy-models/releases/download/en_core_web_sm-3.5.0/en_core_web_sm-3.5.0-py3-none-any.whl (12.8 MB)\n",
      "\u001b[2K     \u001b[90m━━━━━━━━━━━━━━━━━━━━━━━━━━━━━━━━━━━━━━━\u001b[0m \u001b[32m12.8/12.8 MB\u001b[0m \u001b[31m145.6 MB/s\u001b[0m eta \u001b[36m0:00:00\u001b[0m00:01\u001b[0m00:01\u001b[0m\n",
      "\u001b[?25hRequirement already satisfied: spacy<3.6.0,>=3.5.0 in /home/sgupta32/.local/lib/python3.9/site-packages (from en-core-web-sm==3.5.0) (3.5.2)\n",
      "Requirement already satisfied: catalogue<2.1.0,>=2.0.6 in /home/sgupta32/.local/lib/python3.9/site-packages (from spacy<3.6.0,>=3.5.0->en-core-web-sm==3.5.0) (2.0.8)\n",
      "Requirement already satisfied: typer<0.8.0,>=0.3.0 in /home/sgupta32/.local/lib/python3.9/site-packages (from spacy<3.6.0,>=3.5.0->en-core-web-sm==3.5.0) (0.7.0)\n",
      "Requirement already satisfied: murmurhash<1.1.0,>=0.28.0 in /home/sgupta32/.local/lib/python3.9/site-packages (from spacy<3.6.0,>=3.5.0->en-core-web-sm==3.5.0) (1.0.9)\n",
      "Requirement already satisfied: srsly<3.0.0,>=2.4.3 in /home/sgupta32/.local/lib/python3.9/site-packages (from spacy<3.6.0,>=3.5.0->en-core-web-sm==3.5.0) (2.4.6)\n",
      "Requirement already satisfied: pathy>=0.10.0 in /home/sgupta32/.local/lib/python3.9/site-packages (from spacy<3.6.0,>=3.5.0->en-core-web-sm==3.5.0) (0.10.1)\n",
      "Requirement already satisfied: numpy>=1.15.0 in /opt/sw/spack/apps/linux-rhel8-x86_64_v2/gcc-10.3.0/python-3.9.9-jh/lib/python3.9/site-packages (from spacy<3.6.0,>=3.5.0->en-core-web-sm==3.5.0) (1.22.3)\n",
      "Requirement already satisfied: tqdm<5.0.0,>=4.38.0 in /home/sgupta32/.local/lib/python3.9/site-packages (from spacy<3.6.0,>=3.5.0->en-core-web-sm==3.5.0) (4.49.0)\n",
      "Requirement already satisfied: spacy-legacy<3.1.0,>=3.0.11 in /home/sgupta32/.local/lib/python3.9/site-packages (from spacy<3.6.0,>=3.5.0->en-core-web-sm==3.5.0) (3.0.12)\n",
      "Requirement already satisfied: jinja2 in /opt/sw/spack/apps/linux-rhel8-x86_64_v2/gcc-10.3.0/python-3.9.9-jh/lib/python3.9/site-packages (from spacy<3.6.0,>=3.5.0->en-core-web-sm==3.5.0) (3.1.0)\n",
      "Requirement already satisfied: thinc<8.2.0,>=8.1.8 in /home/sgupta32/.local/lib/python3.9/site-packages (from spacy<3.6.0,>=3.5.0->en-core-web-sm==3.5.0) (8.1.10)\n",
      "Requirement already satisfied: requests<3.0.0,>=2.13.0 in /opt/sw/spack/apps/linux-rhel8-x86_64_v2/gcc-10.3.0/python-3.9.9-jh/lib/python3.9/site-packages (from spacy<3.6.0,>=3.5.0->en-core-web-sm==3.5.0) (2.27.1)\n",
      "Requirement already satisfied: cymem<2.1.0,>=2.0.2 in /home/sgupta32/.local/lib/python3.9/site-packages (from spacy<3.6.0,>=3.5.0->en-core-web-sm==3.5.0) (2.0.7)\n",
      "Requirement already satisfied: setuptools in /home/sgupta32/.local/lib/python3.9/site-packages (from spacy<3.6.0,>=3.5.0->en-core-web-sm==3.5.0) (49.3.0)\n",
      "Requirement already satisfied: smart-open<7.0.0,>=5.2.1 in /home/sgupta32/.local/lib/python3.9/site-packages (from spacy<3.6.0,>=3.5.0->en-core-web-sm==3.5.0) (6.3.0)\n",
      "Requirement already satisfied: pydantic!=1.8,!=1.8.1,<1.11.0,>=1.7.4 in /home/sgupta32/.local/lib/python3.9/site-packages (from spacy<3.6.0,>=3.5.0->en-core-web-sm==3.5.0) (1.10.7)\n",
      "Requirement already satisfied: langcodes<4.0.0,>=3.2.0 in /home/sgupta32/.local/lib/python3.9/site-packages (from spacy<3.6.0,>=3.5.0->en-core-web-sm==3.5.0) (3.3.0)\n",
      "Requirement already satisfied: preshed<3.1.0,>=3.0.2 in /home/sgupta32/.local/lib/python3.9/site-packages (from spacy<3.6.0,>=3.5.0->en-core-web-sm==3.5.0) (3.0.8)\n",
      "Requirement already satisfied: packaging>=20.0 in /opt/sw/spack/apps/linux-rhel8-x86_64_v2/gcc-10.3.0/python-3.9.9-jh/lib/python3.9/site-packages (from spacy<3.6.0,>=3.5.0->en-core-web-sm==3.5.0) (21.3)\n",
      "Requirement already satisfied: spacy-loggers<2.0.0,>=1.0.0 in /home/sgupta32/.local/lib/python3.9/site-packages (from spacy<3.6.0,>=3.5.0->en-core-web-sm==3.5.0) (1.0.4)\n",
      "Requirement already satisfied: wasabi<1.2.0,>=0.9.1 in /home/sgupta32/.local/lib/python3.9/site-packages (from spacy<3.6.0,>=3.5.0->en-core-web-sm==3.5.0) (1.1.1)\n",
      "Requirement already satisfied: pyparsing!=3.0.5,>=2.0.2 in /opt/sw/spack/apps/linux-rhel8-x86_64_v2/gcc-10.3.0/python-3.9.9-jh/lib/python3.9/site-packages (from packaging>=20.0->spacy<3.6.0,>=3.5.0->en-core-web-sm==3.5.0) (3.0.7)\n",
      "Requirement already satisfied: typing-extensions>=4.2.0 in /home/sgupta32/.local/lib/python3.9/site-packages (from pydantic!=1.8,!=1.8.1,<1.11.0,>=1.7.4->spacy<3.6.0,>=3.5.0->en-core-web-sm==3.5.0) (4.5.0)\n",
      "Requirement already satisfied: charset-normalizer~=2.0.0 in /opt/sw/spack/apps/linux-rhel8-x86_64_v2/gcc-10.3.0/python-3.9.9-jh/lib/python3.9/site-packages (from requests<3.0.0,>=2.13.0->spacy<3.6.0,>=3.5.0->en-core-web-sm==3.5.0) (2.0.12)\n",
      "Requirement already satisfied: urllib3<1.27,>=1.21.1 in /opt/sw/spack/apps/linux-rhel8-x86_64_v2/gcc-10.3.0/python-3.9.9-jh/lib/python3.9/site-packages (from requests<3.0.0,>=2.13.0->spacy<3.6.0,>=3.5.0->en-core-web-sm==3.5.0) (1.26.9)\n",
      "Requirement already satisfied: certifi>=2017.4.17 in /opt/sw/spack/apps/linux-rhel8-x86_64_v2/gcc-10.3.0/python-3.9.9-jh/lib/python3.9/site-packages (from requests<3.0.0,>=2.13.0->spacy<3.6.0,>=3.5.0->en-core-web-sm==3.5.0) (2021.10.8)\n",
      "Requirement already satisfied: idna<4,>=2.5 in /opt/sw/spack/apps/linux-rhel8-x86_64_v2/gcc-10.3.0/python-3.9.9-jh/lib/python3.9/site-packages (from requests<3.0.0,>=2.13.0->spacy<3.6.0,>=3.5.0->en-core-web-sm==3.5.0) (3.3)\n",
      "Requirement already satisfied: blis<0.8.0,>=0.7.8 in /home/sgupta32/.local/lib/python3.9/site-packages (from thinc<8.2.0,>=8.1.8->spacy<3.6.0,>=3.5.0->en-core-web-sm==3.5.0) (0.7.9)\n",
      "Requirement already satisfied: confection<1.0.0,>=0.0.1 in /home/sgupta32/.local/lib/python3.9/site-packages (from thinc<8.2.0,>=8.1.8->spacy<3.6.0,>=3.5.0->en-core-web-sm==3.5.0) (0.0.4)\n",
      "Requirement already satisfied: click<9.0.0,>=7.1.1 in /opt/sw/spack/apps/linux-rhel8-x86_64_v2/gcc-10.3.0/python-3.9.9-jh/lib/python3.9/site-packages (from typer<0.8.0,>=0.3.0->spacy<3.6.0,>=3.5.0->en-core-web-sm==3.5.0) (8.0.4)\n",
      "Requirement already satisfied: MarkupSafe>=2.0 in /opt/sw/spack/apps/linux-rhel8-x86_64_v2/gcc-10.3.0/python-3.9.9-jh/lib/python3.9/site-packages (from jinja2->spacy<3.6.0,>=3.5.0->en-core-web-sm==3.5.0) (2.1.1)\n",
      "\u001b[33mWARNING: Ignoring invalid distribution -orch (/home/sgupta32/.local/lib/python3.9/site-packages)\u001b[0m\u001b[33m\n",
      "\u001b[0m\u001b[33mWARNING: Ignoring invalid distribution -orch (/home/sgupta32/.local/lib/python3.9/site-packages)\u001b[0m\u001b[33m\n",
      "\u001b[0m\u001b[33mWARNING: Ignoring invalid distribution -orch (/home/sgupta32/.local/lib/python3.9/site-packages)\u001b[0m\u001b[33m\n",
      "\u001b[0m\u001b[33mWARNING: Ignoring invalid distribution -orch (/home/sgupta32/.local/lib/python3.9/site-packages)\u001b[0m\u001b[33m\n",
      "\u001b[0m\n",
      "\u001b[1m[\u001b[0m\u001b[34;49mnotice\u001b[0m\u001b[1;39;49m]\u001b[0m\u001b[39;49m A new release of pip is available: \u001b[0m\u001b[31;49m23.0.1\u001b[0m\u001b[39;49m -> \u001b[0m\u001b[32;49m23.1.2\u001b[0m\n",
      "\u001b[1m[\u001b[0m\u001b[34;49mnotice\u001b[0m\u001b[1;39;49m]\u001b[0m\u001b[39;49m To update, run: \u001b[0m\u001b[32;49mpip install --upgrade pip\u001b[0m\n",
      "\u001b[38;5;2m✔ Download and installation successful\u001b[0m\n",
      "You can now load the package via spacy.load('en_core_web_sm')\n"
     ]
    }
   ],
   "source": [
    "!python3 -m spacy download en_core_web_sm"
   ]
  },
  {
   "cell_type": "code",
   "execution_count": 6,
   "id": "eb6bdf19-28dd-4baa-9d3b-9556f7a59168",
   "metadata": {},
   "outputs": [
    {
     "name": "stderr",
     "output_type": "stream",
     "text": [
      "[nltk_data] Downloading package omw-1.4 to /home/sgupta32/nltk_data...\n",
      "[nltk_data]   Package omw-1.4 is already up-to-date!\n"
     ]
    },
    {
     "data": {
      "text/plain": [
       "True"
      ]
     },
     "execution_count": 6,
     "metadata": {},
     "output_type": "execute_result"
    }
   ],
   "source": [
    "import nltk\n",
    "nltk.download('omw-1.4')"
   ]
  },
  {
   "cell_type": "code",
   "execution_count": 7,
   "id": "1402944b-3f0c-4258-a67f-629ed7597d63",
   "metadata": {
    "tags": []
   },
   "outputs": [],
   "source": [
    "#Importing Libraries\n",
    "import checklist\n",
    "from checklist.editor import Editor\n",
    "from checklist.test_types import MFT, INV, DIR\n",
    "from checklist.perturb import Perturb\n",
    "import spacy\n",
    "from pattern.en import sentiment\n",
    "from checklist.expect import Expect\n",
    "import pandas as pd\n",
    "import numpy as np\n",
    "from checklist.pred_wrapper import PredictorWrapper"
   ]
  },
  {
   "cell_type": "code",
   "execution_count": 8,
   "id": "e9cf4b5d-4fe1-41ab-b33a-57aa3aa250c3",
   "metadata": {},
   "outputs": [],
   "source": [
    "#Read the train_seen dataset\n",
    "df = pd.read_csv(\"/scratch/sgupta32/Learn-To-Adapt/train_seen.csv\") "
   ]
  },
  {
   "cell_type": "code",
   "execution_count": 9,
   "id": "8044e6f6-213b-4a27-9c1f-fdeba0aa1ec7",
   "metadata": {},
   "outputs": [
    {
     "data": {
      "text/plain": [
       "[[\"i'd like to hear some trivia about florida\",\n",
       "  \"i'd like to hear some trivia about flroida\"],\n",
       " [\"please tell me the bill's minimum payment\",\n",
       "  \"please tellm e the bill's minimum payment\"],\n",
       " ['who gave you life', 'wh ogave you life'],\n",
       " ['at what time will my flight begin boarding',\n",
       "  'at whatt ime will my flight begin boarding'],\n",
       " ['my card is lost, i would like to report it',\n",
       "  'my car dis lost, i would like to report it']]"
      ]
     },
     "execution_count": 9,
     "metadata": {},
     "output_type": "execute_result"
    }
   ],
   "source": [
    "#Adding typos\n",
    "ret1 = Perturb.perturb(df['Text'], Perturb.add_typos)\n",
    "ret1.data[:5]"
   ]
  },
  {
   "cell_type": "code",
   "execution_count": 10,
   "id": "4c6213b7-5fd4-4027-ab79-700e8bc922db",
   "metadata": {},
   "outputs": [],
   "source": [
    "#Adding negations\n",
    "nlp = spacy.load('en_core_web_sm')\n",
    "pdata = list(nlp.pipe(df['Text']))"
   ]
  },
  {
   "cell_type": "code",
   "execution_count": 12,
   "id": "50dae639-a7ec-4304-a8d9-29b4190d7785",
   "metadata": {},
   "outputs": [
    {
     "data": {
      "text/plain": [
       "[[\"i'd like to hear some trivia about florida\",\n",
       "  \"i wouldn't like to hear some trivia about florida\"],\n",
       " [\"please tell me the bill's minimum payment\",\n",
       "  \"please don't tell me the bill's minimum payment\"],\n",
       " ['who gave you life', \"who didn't give you life\"],\n",
       " ['at what time will my flight begin boarding',\n",
       "  \"at what time won't my flight begin boarding\"],\n",
       " ['my card is lost, i would like to report it',\n",
       "  \"my card is lost, i wouldn't like to report it\"]]"
      ]
     },
     "execution_count": 12,
     "metadata": {},
     "output_type": "execute_result"
    }
   ],
   "source": [
    "#Run it twice\n",
    "ret2 = Perturb.perturb(pdata, Perturb.add_negation)\n",
    "ret2.data[:5]"
   ]
  },
  {
   "cell_type": "code",
   "execution_count": 13,
   "id": "a296b6c1-70ee-468b-83e9-f101757128cf",
   "metadata": {},
   "outputs": [
    {
     "data": {
      "text/plain": [
       "[['has my reservation for john at bardenay been confirmed',\n",
       "  'has my reservation for Antonio at bardenay been confirmed',\n",
       "  'has my reservation for Ethan at bardenay been confirmed',\n",
       "  'has my reservation for Christian at bardenay been confirmed',\n",
       "  'has my reservation for Nicholas at bardenay been confirmed',\n",
       "  'has my reservation for Mason at bardenay been confirmed',\n",
       "  'has my reservation for Noah at bardenay been confirmed',\n",
       "  'has my reservation for Jose at bardenay been confirmed',\n",
       "  'has my reservation for Samuel at bardenay been confirmed',\n",
       "  'has my reservation for Richard at bardenay been confirmed',\n",
       "  'has my reservation for Henry at bardenay been confirmed'],\n",
       " ['bella needs to be called',\n",
       "  'Rachel needs to be called',\n",
       "  'Alexis needs to be called',\n",
       "  'Melanie needs to be called',\n",
       "  'Rebecca needs to be called',\n",
       "  'Angela needs to be called',\n",
       "  'Karen needs to be called',\n",
       "  'Brittany needs to be called',\n",
       "  'Riley needs to be called',\n",
       "  'Alicia needs to be called',\n",
       "  'Caroline needs to be called'],\n",
       " ['bob is my name now',\n",
       "  'Jesus is my name now',\n",
       "  'Adam is my name now',\n",
       "  'Jack is my name now',\n",
       "  'Juan is my name now',\n",
       "  'Thomas is my name now',\n",
       "  'Kevin is my name now',\n",
       "  'Jesse is my name now',\n",
       "  'Eric is my name now',\n",
       "  'Kenneth is my name now',\n",
       "  'Kevin is my name now'],\n",
       " ['can you tell bill and craig where i am',\n",
       "  'can you tell bill and Aiden where i am',\n",
       "  'can you tell bill and Kyle where i am',\n",
       "  'can you tell bill and Justin where i am',\n",
       "  'can you tell bill and Adrian where i am',\n",
       "  'can you tell bill and Alex where i am',\n",
       "  'can you tell bill and Carlos where i am',\n",
       "  'can you tell bill and Jeffrey where i am',\n",
       "  'can you tell bill and Ryan where i am',\n",
       "  'can you tell bill and Aaron where i am',\n",
       "  'can you tell bill and Ethan where i am'],\n",
       " [\"does wendy's have good reviews\",\n",
       "  \"does Hannah's have good reviews\",\n",
       "  \"does Kelly's have good reviews\",\n",
       "  \"does Amy's have good reviews\",\n",
       "  \"does Melanie's have good reviews\",\n",
       "  \"does Isabella's have good reviews\",\n",
       "  \"does Savannah's have good reviews\",\n",
       "  \"does Natalie's have good reviews\",\n",
       "  \"does Jacqueline's have good reviews\",\n",
       "  \"does Kaitlyn's have good reviews\",\n",
       "  \"does Cynthia's have good reviews\"]]"
      ]
     },
     "execution_count": 13,
     "metadata": {},
     "output_type": "execute_result"
    }
   ],
   "source": [
    "#Changing the names\n",
    "ret3 = Perturb.perturb(pdata, Perturb.change_names)\n",
    "ret3.data[:5]"
   ]
  },
  {
   "cell_type": "code",
   "execution_count": 14,
   "id": "5d4ea7c9-77e0-4127-8b2a-a48374a5bf34",
   "metadata": {},
   "outputs": [],
   "source": [
    "############Minimum Functionality Test (MFT)############"
   ]
  },
  {
   "cell_type": "code",
   "execution_count": 15,
   "id": "b5669b60-95cd-44b8-898b-6fee2cc9bc1e",
   "metadata": {},
   "outputs": [],
   "source": [
    "editor = Editor()"
   ]
  },
  {
   "cell_type": "code",
   "execution_count": 16,
   "id": "f905c7b4-5596-48b8-b6c7-bf06e82ed79c",
   "metadata": {},
   "outputs": [],
   "source": [
    "#Initializing positive and negative words\n",
    "pos = ['good', 'enjoyable', 'exciting', 'excellent', 'amazing', 'great', 'engaging', 'like']\n",
    "neg = ['bad', 'terrible', 'awful', 'horrible', 'lost']"
   ]
  },
  {
   "cell_type": "code",
   "execution_count": 17,
   "id": "5c226f2f-dd08-4193-b931-49cd7e7d9014",
   "metadata": {},
   "outputs": [],
   "source": [
    "#Adding columns in the df\n",
    "df['pos'] = df['Text'].str.count('|'.join(pos))\n",
    "df['neg'] = df['Text'].str.count('|'.join(neg))\n",
    "\n",
    "#Conditions depending on the count of positive words and negative words\n",
    "conditions = [\n",
    "(df['pos'] > df['neg']),\n",
    "(df['neg'] > df['pos']),\n",
    "(df['neg'] == df['pos'])\n",
    "]\n",
    "\n",
    "#Available choices\n",
    "choices = [\n",
    "'positive',\n",
    "'negative',\n",
    "'neutral'\n",
    "]\n",
    "\n",
    "# Assigning the appropriate choice based on the conditions\n",
    "df['overall'] = np.select(conditions, choices, default = '')"
   ]
  },
  {
   "cell_type": "code",
   "execution_count": 18,
   "id": "ece0b04e-d42d-48ca-8ebb-a358e6ae01cc",
   "metadata": {},
   "outputs": [],
   "source": [
    "ret = editor.template('I am good.', pos=pos, labels=0, save=True, nsamples=100)\n",
    "for i in range(0, 12600):\n",
    "    # Checking if the 'overall' value for the current row is 'positive'\n",
    "    if df['overall'][i] == 'positive':\n",
    "        # Generating templates for the positive text\n",
    "        ret += editor.template(df['Text'][i], pos=pos, labels=0, save=True, nsamples=100)\n",
    "    # Checking if the 'overall' value for the current row is 'negative'\n",
    "    if df['overall'][i] == 'negative':\n",
    "        # Generating templates for the negative text\n",
    "        ret += editor.template(df['Text'][i], neg=neg, labels=1, save=True, nsamples=100)"
   ]
  },
  {
   "cell_type": "code",
   "execution_count": 19,
   "id": "95951380-e148-4cde-a52a-eee0cd5ad829",
   "metadata": {},
   "outputs": [],
   "source": [
    "# The code creates an MFT (Minimal Functionality Test) object named 'test' using the provided data and labels.\n",
    "# The 'name' parameter is set to 'Simple negation'.\n",
    "# The 'capability' parameter is set to 'Negation'.\n",
    "# The 'description' parameter is set to 'Very simple negations.'\n",
    "test = MFT(ret.data, labels=ret.labels, name='Simple negation',\n",
    "           capability='Negation', description='Very simple negations.')"
   ]
  },
  {
   "cell_type": "code",
   "execution_count": 20,
   "id": "26087b2e-082d-404c-8ea9-d63bf0d760c9",
   "metadata": {},
   "outputs": [],
   "source": [
    "# The code above creates an MFT (Minimal Functionality Test) object named 'test' using the values from the 'ret' dictionary.\n",
    "# The 'name' parameter is set to 'Simple negation'.\n",
    "# The 'capability' parameter is set to 'Negation'.\n",
    "# The 'description' parameter is set to 'Very simple negations.'\n",
    "test = MFT(**ret, name='Simple negation',\n",
    "           capability='Negation', description='Very simple negations.')"
   ]
  },
  {
   "cell_type": "code",
   "execution_count": 21,
   "id": "cce11cfa-ba7a-4aea-9aad-d6309f6c749e",
   "metadata": {},
   "outputs": [],
   "source": [
    "def predict_proba(inputs):\n",
    "    # Calculate the predicted probabilities for the positive class\n",
    "    p1 = np.array([(sentiment(x)[0] + 1)/2. for x in inputs]).reshape(-1, 1)\n",
    "    # Calculate the predicted probabilities for the negative class\n",
    "    p0 = 1 - p1\n",
    "    # Return the predicted probabilities as a two-column array\n",
    "    return np.hstack((p0, p1))"
   ]
  },
  {
   "cell_type": "code",
   "execution_count": 22,
   "id": "72cf3391-0e8b-4d6a-b448-a6c77d922002",
   "metadata": {},
   "outputs": [
    {
     "data": {
      "text/plain": [
       "array([[0.15, 0.85],\n",
       "       [0.85, 0.15]])"
      ]
     },
     "execution_count": 22,
     "metadata": {},
     "output_type": "execute_result"
    }
   ],
   "source": [
    "predict_proba(['good', 'bad'])"
   ]
  },
  {
   "cell_type": "code",
   "execution_count": 23,
   "id": "3e913cdc-a8dc-44ce-a85f-edbba41ad771",
   "metadata": {},
   "outputs": [],
   "source": [
    "wrapped_pp = PredictorWrapper.wrap_softmax(predict_proba)"
   ]
  },
  {
   "cell_type": "code",
   "execution_count": 24,
   "id": "9b10d7c7-7578-4cde-b40e-906b32e25e90",
   "metadata": {},
   "outputs": [
    {
     "data": {
      "text/plain": [
       "(array([1]), array([[0.15, 0.85]]))"
      ]
     },
     "execution_count": 24,
     "metadata": {},
     "output_type": "execute_result"
    }
   ],
   "source": [
    "wrapped_pp(['good'])"
   ]
  },
  {
   "cell_type": "code",
   "execution_count": 25,
   "id": "d27dddcb-9187-407f-a849-b0c4daec8626",
   "metadata": {},
   "outputs": [
    {
     "name": "stdout",
     "output_type": "stream",
     "text": [
      "Predicting 814 examples\n"
     ]
    }
   ],
   "source": [
    "test.run(wrapped_pp)"
   ]
  },
  {
   "cell_type": "code",
   "execution_count": 26,
   "id": "6dcd4bb7-31dd-49e4-b050-0d6e9c805482",
   "metadata": {},
   "outputs": [
    {
     "name": "stdout",
     "output_type": "stream",
     "text": [
      "Test cases:      814\n",
      "Fails (rate):    425 (52.2%)\n",
      "\n",
      "Example fails:\n",
      "0.8 what's a good restaurant nearby\n",
      "----\n",
      "0.8 i would like to place an order for more checkbooks to me mailed to me\n",
      "----\n",
      "0.8 good morning, ai\n",
      "----\n"
     ]
    }
   ],
   "source": [
    "test.summary()"
   ]
  },
  {
   "cell_type": "code",
   "execution_count": 27,
   "id": "69f2641f-61e0-439e-9ab4-a71eec66e6de",
   "metadata": {},
   "outputs": [],
   "source": [
    "############INVARIANCE TESTS############"
   ]
  },
  {
   "cell_type": "code",
   "execution_count": 28,
   "id": "fea8730e-a1a8-41fa-82d5-577e1b456bcd",
   "metadata": {},
   "outputs": [],
   "source": [
    "#typos\n",
    "test = INV(**ret1)"
   ]
  },
  {
   "cell_type": "code",
   "execution_count": 29,
   "id": "9cbc7d84-7d9f-465b-9002-8bb1fcd2f5f0",
   "metadata": {},
   "outputs": [
    {
     "name": "stdout",
     "output_type": "stream",
     "text": [
      "Predicting 25200 examples\n",
      "Test cases:      12600\n",
      "Fails (rate):    290 (2.3%)\n",
      "\n",
      "Example fails:\n",
      "0.2 i am very confused about the block that seems to have been placed on my account why is it there\n",
      "0.6 i am very confusde about the block that seems to have been placed on my account why is it there\n",
      "\n",
      "----\n",
      "0.7 what do you enjoy doing in your leisure time\n",
      "0.5 what do youe njoy doing in your leisure time\n",
      "\n",
      "----\n",
      "0.4 um, i'm not actually sure\n",
      "0.8 um, i'm not actualyl sure\n",
      "\n",
      "----\n"
     ]
    }
   ],
   "source": [
    "test.run(wrapped_pp)\n",
    "test.summary()"
   ]
  },
  {
   "cell_type": "code",
   "execution_count": 30,
   "id": "227843f1-84bc-4742-8eba-fed70462d3df",
   "metadata": {},
   "outputs": [],
   "source": [
    "#negations\n",
    "monotonic_decreasing = Expect.monotonic(label=1, increasing=False, tolerance=0.1)"
   ]
  },
  {
   "cell_type": "code",
   "execution_count": 31,
   "id": "f13db1de-7d3c-45e8-909a-fc7f10e9c5a9",
   "metadata": {},
   "outputs": [],
   "source": [
    "test = DIR(**ret2, expect = monotonic_decreasing)"
   ]
  },
  {
   "cell_type": "code",
   "execution_count": 32,
   "id": "4c62dd83-4ac1-4b04-aa55-cbc415291dda",
   "metadata": {},
   "outputs": [
    {
     "name": "stdout",
     "output_type": "stream",
     "text": [
      "Predicting 23384 examples\n",
      "Test cases:      11692\n",
      "After filtering: 11635 (99.5%)\n",
      "Fails (rate):    56 (0.5%)\n",
      "\n",
      "Example fails:\n",
      "0.2 my card got scratched badly, can you tell my bank to send a replacement\n",
      "0.7 my card got scratched badly, can't you tell my bank to send a replacement\n",
      "\n",
      "----\n",
      "0.4 that is not true, it's false\n",
      "0.5 that is not true, it's not false\n",
      "\n",
      "----\n",
      "0.2 that's wrong\n",
      "0.6 that's not wrong\n",
      "\n",
      "----\n"
     ]
    }
   ],
   "source": [
    "test.run(wrapped_pp)\n",
    "test.summary()"
   ]
  },
  {
   "cell_type": "code",
   "execution_count": 33,
   "id": "7d4a0b26-62d5-417d-b8a2-fbfe2d26c562",
   "metadata": {},
   "outputs": [],
   "source": [
    "#name change\n",
    "test = INV(**ret3)"
   ]
  },
  {
   "cell_type": "code",
   "execution_count": 34,
   "id": "7d1ef64d-4592-45e8-8544-7bdc6ab7b882",
   "metadata": {},
   "outputs": [
    {
     "name": "stdout",
     "output_type": "stream",
     "text": [
      "Predicting 1958 examples\n",
      "Test cases:      178\n",
      "Fails (rate):    0 (0.0%)\n"
     ]
    }
   ],
   "source": [
    "test.run(wrapped_pp)\n",
    "test.summary()"
   ]
  },
  {
   "cell_type": "code",
   "execution_count": 35,
   "id": "bdf3f2bf-a0b1-4fd9-98a5-07e1d8eee9f2",
   "metadata": {},
   "outputs": [],
   "source": [
    "############Creating a new Train Dataset with noise############"
   ]
  },
  {
   "cell_type": "code",
   "execution_count": 36,
   "id": "6d5cf243-8bfd-4c9e-bd52-9afd09f1814c",
   "metadata": {},
   "outputs": [
    {
     "name": "stderr",
     "output_type": "stream",
     "text": [
      "/tmp/ipykernel_3540803/2180183994.py:3: SettingWithCopyWarning: \n",
      "A value is trying to be set on a copy of a slice from a DataFrame\n",
      "\n",
      "See the caveats in the documentation: https://pandas.pydata.org/pandas-docs/stable/user_guide/indexing.html#returning-a-view-versus-a-copy\n",
      "  df['Text'][i] = ret2.data[i][1]\n"
     ]
    },
    {
     "ename": "IndexError",
     "evalue": "list index out of range",
     "output_type": "error",
     "traceback": [
      "\u001b[0;31m---------------------------------------------------------------------------\u001b[0m",
      "\u001b[0;31mIndexError\u001b[0m                                Traceback (most recent call last)",
      "Input \u001b[0;32mIn [36]\u001b[0m, in \u001b[0;36m<cell line: 2>\u001b[0;34m()\u001b[0m\n\u001b[1;32m      1\u001b[0m \u001b[38;5;66;03m#Add negations to df\u001b[39;00m\n\u001b[1;32m      2\u001b[0m \u001b[38;5;28;01mfor\u001b[39;00m i \u001b[38;5;129;01min\u001b[39;00m \u001b[38;5;28mrange\u001b[39m(\u001b[38;5;241m0\u001b[39m, \u001b[38;5;241m12600\u001b[39m):\n\u001b[0;32m----> 3\u001b[0m     df[\u001b[38;5;124m'\u001b[39m\u001b[38;5;124mText\u001b[39m\u001b[38;5;124m'\u001b[39m][i] \u001b[38;5;241m=\u001b[39m \u001b[43mret2\u001b[49m\u001b[38;5;241;43m.\u001b[39;49m\u001b[43mdata\u001b[49m\u001b[43m[\u001b[49m\u001b[43mi\u001b[49m\u001b[43m]\u001b[49m[\u001b[38;5;241m1\u001b[39m]\n",
      "\u001b[0;31mIndexError\u001b[0m: list index out of range"
     ]
    }
   ],
   "source": [
    "#Add negations to df\n",
    "for i in range(0, 12600):\n",
    "    df['Text'][i] = ret2.data[i][1]"
   ]
  },
  {
   "cell_type": "code",
   "execution_count": null,
   "id": "c69c7c3b-9c3a-45f8-8908-a5f75a86787e",
   "metadata": {},
   "outputs": [],
   "source": [
    "#Adding typos to new df\n",
    "ret1 = Perturb.perturb(df['Text'], Perturb.add_typos)\n",
    "ret1.data[:5]"
   ]
  },
  {
   "cell_type": "code",
   "execution_count": null,
   "id": "60b01023-faae-49f9-8b05-921c2d31960c",
   "metadata": {},
   "outputs": [],
   "source": [
    "#Add typos to df\n",
    "for i in range(0, 12600):\n",
    "    df['Text'][i] = ret1.data[i][1]"
   ]
  },
  {
   "cell_type": "code",
   "execution_count": 37,
   "id": "56b704c0-db28-468c-9651-7f73963d2a56",
   "metadata": {},
   "outputs": [],
   "source": [
    "df.to_csv(path_or_buf='/scratch/sgupta32/Learn-To-Adapt/data/ver1/train_seen.csv', index=False, columns=[\"Text\", \"Label\"])"
   ]
  },
  {
   "cell_type": "code",
   "execution_count": null,
   "id": "a630bb93-8b58-4347-9087-0276bba61cac",
   "metadata": {},
   "outputs": [],
   "source": []
  },
  {
   "cell_type": "code",
   "execution_count": null,
   "id": "6e79d30a-8c8d-47a9-8019-b20fc1985362",
   "metadata": {},
   "outputs": [],
   "source": []
  }
 ],
 "metadata": {
  "kernelspec": {
   "display_name": "Python 3 (ipykernel)",
   "language": "python",
   "name": "python3"
  },
  "language_info": {
   "codemirror_mode": {
    "name": "ipython",
    "version": 3
   },
   "file_extension": ".py",
   "mimetype": "text/x-python",
   "name": "python",
   "nbconvert_exporter": "python",
   "pygments_lexer": "ipython3",
   "version": "3.9.9"
  }
 },
 "nbformat": 4,
 "nbformat_minor": 5
}
